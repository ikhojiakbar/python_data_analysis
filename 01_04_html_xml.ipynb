{
 "cells": [
  {
   "cell_type": "markdown",
   "id": "63f4b779",
   "metadata": {},
   "source": [
    "# XML and HTML: Web Scraping"
   ]
  },
  {
   "cell_type": "markdown",
   "id": "baea43d6",
   "metadata": {},
   "source": [
    "## Alternative libraries to read html and xml files\n",
    "* lxml\n",
    "* Beatiful Soup\n",
    "* html5lib"
   ]
  },
  {
   "cell_type": "markdown",
   "id": "86af52e4",
   "metadata": {},
   "source": [
    "## 1. HTML"
   ]
  },
  {
   "cell_type": "code",
   "execution_count": null,
   "id": "7b551f51",
   "metadata": {},
   "outputs": [],
   "source": [
    "tables = pd.read_html('04_example.html')"
   ]
  },
  {
   "cell_type": "markdown",
   "id": "8fbb86fd",
   "metadata": {},
   "source": [
    "## 2. Parsing XML with lxml.objectify\n",
    "* xml is structured data format"
   ]
  },
  {
   "cell_type": "code",
   "execution_count": null,
   "id": "f1e6d531",
   "metadata": {},
   "outputs": [],
   "source": [
    "from lxml import objectify\n",
    "path = 'examples/mta_perf/Performance_MNR.xml'\n",
    "parsed = objectify.parse(open(path))\n",
    "root = parsed.getroot()"
   ]
  }
 ],
 "metadata": {
  "kernelspec": {
   "display_name": "Python 3",
   "language": "python",
   "name": "python3"
  },
  "language_info": {
   "codemirror_mode": {
    "name": "ipython",
    "version": 3
   },
   "file_extension": ".py",
   "mimetype": "text/x-python",
   "name": "python",
   "nbconvert_exporter": "python",
   "pygments_lexer": "ipython3",
   "version": "3.8.8"
  }
 },
 "nbformat": 4,
 "nbformat_minor": 5
}
