{
 "cells": [
  {
   "cell_type": "markdown",
   "id": "fbfb29e6",
   "metadata": {},
   "source": [
    "# Reading Text Files in Pieces"
   ]
  },
  {
   "cell_type": "code",
   "execution_count": 1,
   "id": "e658dfe4",
   "metadata": {},
   "outputs": [],
   "source": [
    "import numpy as np\n",
    "import pandas as pd"
   ]
  },
  {
   "cell_type": "markdown",
   "id": "02f8df05",
   "metadata": {},
   "source": [
    "## 1. Display"
   ]
  },
  {
   "cell_type": "code",
   "execution_count": 2,
   "id": "232db822",
   "metadata": {},
   "outputs": [],
   "source": [
    "pd.options.display.max_rows = 10"
   ]
  },
  {
   "cell_type": "markdown",
   "id": "37693c3d",
   "metadata": {},
   "source": [
    "### 1.1 Reading only the beginning"
   ]
  },
  {
   "cell_type": "code",
   "execution_count": null,
   "id": "49ef5f64",
   "metadata": {},
   "outputs": [],
   "source": [
    "#avoids reading an entire file\n",
    "pd.read_csv('02_examples.csv', nrows=5)"
   ]
  },
  {
   "cell_type": "markdown",
   "id": "47a427e1",
   "metadata": {},
   "source": [
    "### 1.2 Chunking the dataset"
   ]
  },
  {
   "cell_type": "code",
   "execution_count": null,
   "id": "ed26fe1f",
   "metadata": {},
   "outputs": [],
   "source": [
    "#chunksize depends on the dataset's row quantity\n",
    "chunker = pd.read_csv('02_examples.csv', chunksize=1000)"
   ]
  },
  {
   "cell_type": "markdown",
   "id": "198882dd",
   "metadata": {},
   "source": [
    "# Writing Data to Text Format"
   ]
  },
  {
   "cell_type": "markdown",
   "id": "65e700bc",
   "metadata": {},
   "source": [
    "## 1. to_csv()\n",
    "* by default it creates comma separated delimeter\n",
    "* use sys.stdout always for writing to csv file"
   ]
  },
  {
   "cell_type": "code",
   "execution_count": null,
   "id": "62a7a16e",
   "metadata": {},
   "outputs": [],
   "source": [
    "dataframe.to_csv('02_examples.csv')"
   ]
  },
  {
   "cell_type": "markdown",
   "id": "ded0f65f",
   "metadata": {},
   "source": [
    "### 1.1 Alternative delimiters"
   ]
  },
  {
   "cell_type": "code",
   "execution_count": null,
   "id": "ced90fb0",
   "metadata": {
    "scrolled": true
   },
   "outputs": [],
   "source": [
    "import sys\n",
    "\n",
    "#creates '|' instead of ',' in the csv file\n",
    "dataframe.to_csv(sys.stdout, '02_examples.csv', sep='|')"
   ]
  },
  {
   "cell_type": "markdown",
   "id": "73fa70ac",
   "metadata": {},
   "source": [
    "### 1.2 Disabling row and column labels\n",
    "* writing without the index and column name to csv file"
   ]
  },
  {
   "cell_type": "code",
   "execution_count": null,
   "id": "f026afaa",
   "metadata": {},
   "outputs": [],
   "source": [
    "dataframe.to_csv(sys.stdout, '02_examples.csv', sep='|', index=False, header=False)"
   ]
  },
  {
   "cell_type": "markdown",
   "id": "ad541fbe",
   "metadata": {},
   "source": [
    "### 1.3 Writing the desired columns \n",
    "* Writing desired columns from entire list of columns in the dataset"
   ]
  },
  {
   "cell_type": "code",
   "execution_count": null,
   "id": "b5b363b0",
   "metadata": {},
   "outputs": [],
   "source": [
    "dataframe.to_csv(sys.stdout, '02_examples.csv', index=False, columns=['a', 'b', 'c'])"
   ]
  },
  {
   "cell_type": "markdown",
   "id": "482d5d83",
   "metadata": {},
   "source": [
    "# Working with Delimited Formats"
   ]
  },
  {
   "cell_type": "code",
   "execution_count": null,
   "id": "46f3b715",
   "metadata": {},
   "outputs": [],
   "source": [
    "import csv\n",
    "\n",
    "with open('02_examples.csv') as f:\n",
    "    lines = list(csv.reader(f))"
   ]
  },
  {
   "cell_type": "code",
   "execution_count": null,
   "id": "1016bce5",
   "metadata": {},
   "outputs": [],
   "source": [
    "#splitting the columns and its values\n",
    "header, values = lines[0], lines[1:]"
   ]
  },
  {
   "cell_type": "code",
   "execution_count": null,
   "id": "054474d7",
   "metadata": {},
   "outputs": [],
   "source": [
    "data_dict = {h: v for h, v in zip(header, zip(*values))}"
   ]
  }
 ],
 "metadata": {
  "kernelspec": {
   "display_name": "Python 3",
   "language": "python",
   "name": "python3"
  },
  "language_info": {
   "codemirror_mode": {
    "name": "ipython",
    "version": 3
   },
   "file_extension": ".py",
   "mimetype": "text/x-python",
   "name": "python",
   "nbconvert_exporter": "python",
   "pygments_lexer": "ipython3",
   "version": "3.8.8"
  }
 },
 "nbformat": 4,
 "nbformat_minor": 5
}
