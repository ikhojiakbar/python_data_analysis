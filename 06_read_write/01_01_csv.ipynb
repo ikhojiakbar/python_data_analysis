{
 "cells": [
  {
   "cell_type": "markdown",
   "id": "640147c3",
   "metadata": {},
   "source": [
    "# Reading and Writing Data in `Text Format`\n",
    "* read_csv() and read_table() the most common"
   ]
  },
  {
   "cell_type": "code",
   "execution_count": 2,
   "id": "c7be271d",
   "metadata": {},
   "outputs": [],
   "source": [
    "import numpy as np\n",
    "import pandas as pd"
   ]
  },
  {
   "cell_type": "markdown",
   "id": "8a644e45",
   "metadata": {},
   "source": [
    "## 1. CSV"
   ]
  },
  {
   "cell_type": "markdown",
   "id": "34450f5f",
   "metadata": {},
   "source": [
    "### Creating a csv file"
   ]
  },
  {
   "cell_type": "markdown",
   "id": "f875a05f",
   "metadata": {},
   "source": [
    "* !type 01_examples.csv\n",
    "* a,b,c,d,message\n",
    "* 1,2,3,4,hello\n",
    "* 5,6,7,8,world\n",
    "* 9,10,11,12,foo"
   ]
  },
  {
   "cell_type": "markdown",
   "id": "eeb89916",
   "metadata": {},
   "source": [
    "### 1.1 read_csv()"
   ]
  },
  {
   "cell_type": "code",
   "execution_count": null,
   "id": "defdca71",
   "metadata": {},
   "outputs": [],
   "source": [
    "#if the data is comma delimited, use read_csv() by default\n",
    "dataframe = pd.read_csv('01_examples.csv')"
   ]
  },
  {
   "cell_type": "markdown",
   "id": "c0de57a8",
   "metadata": {},
   "source": [
    "### 1.2 read_table()"
   ]
  },
  {
   "cell_type": "code",
   "execution_count": null,
   "id": "6b6deab8",
   "metadata": {},
   "outputs": [],
   "source": [
    "#alternatively, read_table() with comma delimeter\n",
    "pd.read_table('01_examples.csv', sep=',')"
   ]
  },
  {
   "cell_type": "markdown",
   "id": "512f122e",
   "metadata": {},
   "source": [
    "### 1.3 csv without header\n",
    "* header=None"
   ]
  },
  {
   "cell_type": "code",
   "execution_count": null,
   "id": "d9307006",
   "metadata": {},
   "outputs": [],
   "source": [
    "pd.read_csv('01_examples.csv', header=None)"
   ]
  },
  {
   "cell_type": "code",
   "execution_count": null,
   "id": "0ddd04ce",
   "metadata": {},
   "outputs": [],
   "source": [
    "#alternatively, custom names by ourselves\n",
    "pd.read_csv('01_examples.csv', names=['a', 'b', 'c', 'd', 'message'])"
   ]
  },
  {
   "cell_type": "markdown",
   "id": "328c4234",
   "metadata": {},
   "source": [
    "### 1.4 Indexing a column from csv\n",
    "* index_col"
   ]
  },
  {
   "cell_type": "code",
   "execution_count": null,
   "id": "0bb840a6",
   "metadata": {},
   "outputs": [],
   "source": [
    "names = ['a', 'b', 'c', 'd', 'message']\n",
    "pd.read_csv('01_examples.csv', names=names, index_col='message')"
   ]
  },
  {
   "cell_type": "code",
   "execution_count": null,
   "id": "e78959de",
   "metadata": {},
   "outputs": [],
   "source": [
    "#hierarchical indexing\n",
    "parsed = pd.read_csv('01_examples.csv', names=names, index_col=['a', 'message'])"
   ]
  },
  {
   "cell_type": "markdown",
   "id": "c411ee34",
   "metadata": {},
   "source": [
    "### 1.5 Seperating whitespace (using sep='\\s+')\n",
    "* \\s+ is used to parse whitspaces in the text data format"
   ]
  },
  {
   "cell_type": "code",
   "execution_count": null,
   "id": "d66e8be6",
   "metadata": {},
   "outputs": [],
   "source": [
    "pd.read_table('01_examples.txt', sep='\\s+')"
   ]
  },
  {
   "cell_type": "markdown",
   "id": "1486582e",
   "metadata": {},
   "source": [
    "### 1.6 Skip the commented rows"
   ]
  },
  {
   "cell_type": "code",
   "execution_count": null,
   "id": "4cbef099",
   "metadata": {},
   "outputs": [],
   "source": [
    "pd.read_csv('01_examples.csv', skiprows=[0, 2, 3])"
   ]
  }
 ],
 "metadata": {
  "kernelspec": {
   "display_name": "Python 3",
   "language": "python",
   "name": "python3"
  },
  "language_info": {
   "codemirror_mode": {
    "name": "ipython",
    "version": 3
   },
   "file_extension": ".py",
   "mimetype": "text/x-python",
   "name": "python",
   "nbconvert_exporter": "python",
   "pygments_lexer": "ipython3",
   "version": "3.8.8"
  }
 },
 "nbformat": 4,
 "nbformat_minor": 5
}
