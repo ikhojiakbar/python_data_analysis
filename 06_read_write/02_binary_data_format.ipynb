{
 "cells": [
  {
   "cell_type": "markdown",
   "id": "a2250cff",
   "metadata": {},
   "source": [
    "# Binary Data Formats"
   ]
  },
  {
   "cell_type": "code",
   "execution_count": 1,
   "id": "ee5c4727",
   "metadata": {},
   "outputs": [],
   "source": [
    "import numpy as np\n",
    "import pandas as pd"
   ]
  },
  {
   "cell_type": "markdown",
   "id": "56716b5c",
   "metadata": {},
   "source": [
    "## 1. Pickle\n",
    "* Built-in Python's binary data format"
   ]
  },
  {
   "cell_type": "code",
   "execution_count": null,
   "id": "b7a4a7c5",
   "metadata": {},
   "outputs": [],
   "source": [
    "dataframe = pd.read_csv('02_examples.csv')"
   ]
  },
  {
   "cell_type": "markdown",
   "id": "3f5df1b9",
   "metadata": {},
   "source": [
    "### 1.1 Write"
   ]
  },
  {
   "cell_type": "code",
   "execution_count": null,
   "id": "ecb6d6af",
   "metadata": {},
   "outputs": [],
   "source": [
    "dataframe.to_pickle('02_dataframe_pickle')"
   ]
  },
  {
   "cell_type": "markdown",
   "id": "928569e1",
   "metadata": {},
   "source": [
    "### 1.2 Read"
   ]
  },
  {
   "cell_type": "code",
   "execution_count": null,
   "id": "5a708578",
   "metadata": {},
   "outputs": [],
   "source": [
    "dataframe = pd.read_pickle('02_dataframe_pickle')"
   ]
  },
  {
   "cell_type": "markdown",
   "id": "b374d4e4",
   "metadata": {},
   "source": [
    "* Pickle is not good choice for long-term missions"
   ]
  },
  {
   "cell_type": "markdown",
   "id": "eca8c30d",
   "metadata": {},
   "source": [
    "## 2. HDF5\n",
    "* intended to store a large amount of array data"
   ]
  },
  {
   "cell_type": "code",
   "execution_count": 13,
   "id": "734c2f18",
   "metadata": {},
   "outputs": [],
   "source": [
    "dataframe = pd.DataFrame({'a': np.random.randn(100)})"
   ]
  },
  {
   "cell_type": "markdown",
   "id": "aa621ef5",
   "metadata": {},
   "source": [
    "### 2.1 Write"
   ]
  },
  {
   "cell_type": "code",
   "execution_count": 16,
   "id": "833ec457",
   "metadata": {},
   "outputs": [],
   "source": [
    "dataframe.to_hdf('02_hdf5.h5', 'object21', format='table', mode='a')"
   ]
  },
  {
   "cell_type": "markdown",
   "id": "dc58d1a0",
   "metadata": {},
   "source": [
    "### 2.2 Read"
   ]
  },
  {
   "cell_type": "code",
   "execution_count": null,
   "id": "c2f8ea12",
   "metadata": {
    "scrolled": true
   },
   "outputs": [],
   "source": [
    "pd.read_hdf('02_hdf5.h5', 'object21', mode='r', where=['index < 5'])"
   ]
  },
  {
   "cell_type": "markdown",
   "id": "bf98df8d",
   "metadata": {},
   "source": [
    "* Data that is stored on remote servers like Amazon S3 or HDFS that are saved on binary format can be accessed via Parquet"
   ]
  },
  {
   "cell_type": "markdown",
   "id": "2c5617ed",
   "metadata": {},
   "source": [
    "## 3. Microsoft Excel Files"
   ]
  },
  {
   "cell_type": "markdown",
   "id": "d4e0a321",
   "metadata": {},
   "source": [
    "### 3.1 Read"
   ]
  },
  {
   "cell_type": "code",
   "execution_count": null,
   "id": "1c33831a",
   "metadata": {},
   "outputs": [],
   "source": [
    "dataframe = pd.read_excel('02_examples.xlsx', 'Sheet1')\n",
    "dataframe"
   ]
  },
  {
   "cell_type": "markdown",
   "id": "f15599be",
   "metadata": {},
   "source": [
    "### 3.2 Write"
   ]
  },
  {
   "cell_type": "code",
   "execution_count": null,
   "id": "7fc4a017",
   "metadata": {},
   "outputs": [],
   "source": [
    "dataframe.to_excel('02_examples.xlsx')"
   ]
  }
 ],
 "metadata": {
  "kernelspec": {
   "display_name": "Python 3",
   "language": "python",
   "name": "python3"
  },
  "language_info": {
   "codemirror_mode": {
    "name": "ipython",
    "version": 3
   },
   "file_extension": ".py",
   "mimetype": "text/x-python",
   "name": "python",
   "nbconvert_exporter": "python",
   "pygments_lexer": "ipython3",
   "version": "3.8.8"
  }
 },
 "nbformat": 4,
 "nbformat_minor": 5
}
