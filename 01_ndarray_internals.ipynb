{
 "cells": [
  {
   "cell_type": "markdown",
   "id": "4c7c7bcd",
   "metadata": {},
   "source": [
    "# Advanced Array Manipulation"
   ]
  },
  {
   "cell_type": "markdown",
   "id": "bd26089d",
   "metadata": {},
   "source": [
    "## 1. Reshaping Arrays"
   ]
  },
  {
   "cell_type": "code",
   "execution_count": 1,
   "id": "4e752033",
   "metadata": {},
   "outputs": [],
   "source": [
    "import numpy as np"
   ]
  },
  {
   "cell_type": "code",
   "execution_count": 2,
   "id": "35364234",
   "metadata": {},
   "outputs": [
    {
     "data": {
      "text/plain": [
       "array([[0, 1],\n",
       "       [2, 3],\n",
       "       [4, 5],\n",
       "       [6, 7]])"
      ]
     },
     "execution_count": 2,
     "metadata": {},
     "output_type": "execute_result"
    }
   ],
   "source": [
    "array = np.arange(8).reshape((4, 2), order='C')   #C order = row major\n",
    "array"
   ]
  },
  {
   "cell_type": "code",
   "execution_count": 3,
   "id": "d2135f8c",
   "metadata": {},
   "outputs": [
    {
     "data": {
      "text/plain": [
       "array([[0, 1, 2, 3],\n",
       "       [4, 5, 6, 7]])"
      ]
     },
     "execution_count": 3,
     "metadata": {},
     "output_type": "execute_result"
    }
   ],
   "source": [
    "array.reshape((2, 4))"
   ]
  },
  {
   "cell_type": "code",
   "execution_count": 4,
   "id": "f5e35e6b",
   "metadata": {},
   "outputs": [
    {
     "data": {
      "text/plain": [
       "array([[ 0,  1,  2],\n",
       "       [ 3,  4,  5],\n",
       "       [ 6,  7,  8],\n",
       "       [ 9, 10, 11],\n",
       "       [12, 13, 14]])"
      ]
     },
     "execution_count": 4,
     "metadata": {},
     "output_type": "execute_result"
    }
   ],
   "source": [
    "array = np.arange(15).reshape((5, -1))\n",
    "array"
   ]
  },
  {
   "cell_type": "code",
   "execution_count": 5,
   "id": "9444f451",
   "metadata": {},
   "outputs": [
    {
     "data": {
      "text/plain": [
       "(10, 5)"
      ]
     },
     "execution_count": 5,
     "metadata": {},
     "output_type": "execute_result"
    }
   ],
   "source": [
    "np.ones((10, 5)).shape"
   ]
  },
  {
   "cell_type": "markdown",
   "id": "9f7145a0",
   "metadata": {},
   "source": [
    "## 2. Flattening/Raveling\n",
    "* oppositee of reshape: matrix => one-dimension"
   ]
  },
  {
   "cell_type": "code",
   "execution_count": 6,
   "id": "4318c6d3",
   "metadata": {},
   "outputs": [
    {
     "data": {
      "text/plain": [
       "array([[ 0,  1,  2],\n",
       "       [ 3,  4,  5],\n",
       "       [ 6,  7,  8],\n",
       "       [ 9, 10, 11],\n",
       "       [12, 13, 14]])"
      ]
     },
     "execution_count": 6,
     "metadata": {},
     "output_type": "execute_result"
    }
   ],
   "source": [
    "array = np.arange(15).reshape((5, -1), order='C')\n",
    "array"
   ]
  },
  {
   "cell_type": "code",
   "execution_count": 7,
   "id": "fd482851",
   "metadata": {},
   "outputs": [
    {
     "data": {
      "text/plain": [
       "array([ 0,  1,  2,  3,  4,  5,  6,  7,  8,  9, 10, 11, 12, 13, 14])"
      ]
     },
     "execution_count": 7,
     "metadata": {},
     "output_type": "execute_result"
    }
   ],
   "source": [
    "#ravel() does not copy\n",
    "array.ravel()"
   ]
  },
  {
   "cell_type": "code",
   "execution_count": 8,
   "id": "ead7e6db",
   "metadata": {},
   "outputs": [
    {
     "data": {
      "text/plain": [
       "array([[ 0,  1,  2],\n",
       "       [ 3,  4,  5],\n",
       "       [ 6,  7,  8],\n",
       "       [ 9, 10, 11],\n",
       "       [12, 13, 14]])"
      ]
     },
     "execution_count": 8,
     "metadata": {},
     "output_type": "execute_result"
    }
   ],
   "source": [
    "array"
   ]
  },
  {
   "cell_type": "code",
   "execution_count": 9,
   "id": "5b097cc6",
   "metadata": {},
   "outputs": [
    {
     "data": {
      "text/plain": [
       "array([ 0,  1,  2,  3,  4,  5,  6,  7,  8,  9, 10, 11, 12, 13, 14])"
      ]
     },
     "execution_count": 9,
     "metadata": {},
     "output_type": "execute_result"
    }
   ],
   "source": [
    "#flatten() copies the data\n",
    "array.flatten()"
   ]
  },
  {
   "cell_type": "markdown",
   "id": "adde60f9",
   "metadata": {},
   "source": [
    "* The array we have seen so far reshaped/raveled via C order "
   ]
  },
  {
   "cell_type": "markdown",
   "id": "2d27e58b",
   "metadata": {},
   "source": [
    "## 3. C Versus Fortran Order"
   ]
  },
  {
   "cell_type": "code",
   "execution_count": 10,
   "id": "43c05cff",
   "metadata": {},
   "outputs": [
    {
     "data": {
      "text/plain": [
       "array([[ 0,  1,  2,  3],\n",
       "       [ 4,  5,  6,  7],\n",
       "       [ 8,  9, 10, 11]])"
      ]
     },
     "execution_count": 10,
     "metadata": {},
     "output_type": "execute_result"
    }
   ],
   "source": [
    "array = np.arange(12).reshape((3, 4), order='C')\n",
    "array"
   ]
  },
  {
   "cell_type": "code",
   "execution_count": 11,
   "id": "4cde8824",
   "metadata": {},
   "outputs": [
    {
     "data": {
      "text/plain": [
       "array([ 0,  1,  2,  3,  4,  5,  6,  7,  8,  9, 10, 11])"
      ]
     },
     "execution_count": 11,
     "metadata": {},
     "output_type": "execute_result"
    }
   ],
   "source": [
    "array.ravel(order='C')"
   ]
  },
  {
   "cell_type": "code",
   "execution_count": 12,
   "id": "a58c1630",
   "metadata": {},
   "outputs": [
    {
     "data": {
      "text/plain": [
       "array([ 0,  4,  8,  1,  5,  9,  2,  6, 10,  3,  7, 11])"
      ]
     },
     "execution_count": 12,
     "metadata": {},
     "output_type": "execute_result"
    }
   ],
   "source": [
    "array.ravel(order='F')"
   ]
  },
  {
   "cell_type": "markdown",
   "id": "5e4dc311",
   "metadata": {},
   "source": [
    "## 4. Concatenating and Splitting Arrays"
   ]
  },
  {
   "cell_type": "code",
   "execution_count": 13,
   "id": "ef576780",
   "metadata": {},
   "outputs": [],
   "source": [
    "array_1 = np.array([[1, 2, 3], [4, 5, 6]])\n",
    "array_2 = np.array([[7, 8, 9], [10, 11, 12]])"
   ]
  },
  {
   "cell_type": "code",
   "execution_count": 14,
   "id": "f614aa7f",
   "metadata": {},
   "outputs": [
    {
     "data": {
      "text/plain": [
       "array([[ 1,  2,  3],\n",
       "       [ 4,  5,  6],\n",
       "       [ 7,  8,  9],\n",
       "       [10, 11, 12]])"
      ]
     },
     "execution_count": 14,
     "metadata": {},
     "output_type": "execute_result"
    }
   ],
   "source": [
    "np.concatenate([array_1, array_2], axis=0)"
   ]
  },
  {
   "cell_type": "code",
   "execution_count": 15,
   "id": "1a10eccc",
   "metadata": {},
   "outputs": [
    {
     "data": {
      "text/plain": [
       "array([[ 1,  2,  3,  7,  8,  9],\n",
       "       [ 4,  5,  6, 10, 11, 12]])"
      ]
     },
     "execution_count": 15,
     "metadata": {},
     "output_type": "execute_result"
    }
   ],
   "source": [
    "np.concatenate([array_1, array_2], axis=1)"
   ]
  },
  {
   "cell_type": "markdown",
   "id": "289f65a8",
   "metadata": {},
   "source": [
    "### 4.1 Alternative to np.concatenate()"
   ]
  },
  {
   "cell_type": "code",
   "execution_count": 16,
   "id": "f9bda077",
   "metadata": {},
   "outputs": [
    {
     "data": {
      "text/plain": [
       "array([[ 1,  2,  3],\n",
       "       [ 4,  5,  6],\n",
       "       [ 7,  8,  9],\n",
       "       [10, 11, 12]])"
      ]
     },
     "execution_count": 16,
     "metadata": {},
     "output_type": "execute_result"
    }
   ],
   "source": [
    "np.vstack((array_1, array_2))"
   ]
  },
  {
   "cell_type": "code",
   "execution_count": 17,
   "id": "35e2d542",
   "metadata": {},
   "outputs": [
    {
     "data": {
      "text/plain": [
       "array([[ 1,  2,  3,  7,  8,  9],\n",
       "       [ 4,  5,  6, 10, 11, 12]])"
      ]
     },
     "execution_count": 17,
     "metadata": {},
     "output_type": "execute_result"
    }
   ],
   "source": [
    "np.hstack((array_1, array_2))"
   ]
  },
  {
   "cell_type": "markdown",
   "id": "ec1655e3",
   "metadata": {},
   "source": [
    "### 4.2 Splitting arrays"
   ]
  },
  {
   "cell_type": "code",
   "execution_count": 18,
   "id": "0573bd1c",
   "metadata": {},
   "outputs": [
    {
     "data": {
      "text/plain": [
       "array([[ 0.48743595,  0.58832557],\n",
       "       [-0.57080513,  0.05771434],\n",
       "       [-1.13584815,  1.56986624],\n",
       "       [ 0.53505945,  0.95173418],\n",
       "       [ 0.19469929, -1.46722984]])"
      ]
     },
     "execution_count": 18,
     "metadata": {},
     "output_type": "execute_result"
    }
   ],
   "source": [
    "array = np.random.randn(5, 2)\n",
    "array"
   ]
  },
  {
   "cell_type": "code",
   "execution_count": 19,
   "id": "0b6e33a3",
   "metadata": {},
   "outputs": [],
   "source": [
    "first, second, third = np.split(array, [1, 2])"
   ]
  },
  {
   "cell_type": "code",
   "execution_count": 20,
   "id": "c12049d1",
   "metadata": {},
   "outputs": [
    {
     "data": {
      "text/plain": [
       "array([[0.48743595, 0.58832557]])"
      ]
     },
     "execution_count": 20,
     "metadata": {},
     "output_type": "execute_result"
    }
   ],
   "source": [
    "first"
   ]
  },
  {
   "cell_type": "code",
   "execution_count": 21,
   "id": "a3257fef",
   "metadata": {},
   "outputs": [
    {
     "data": {
      "text/plain": [
       "array([[-0.57080513,  0.05771434]])"
      ]
     },
     "execution_count": 21,
     "metadata": {},
     "output_type": "execute_result"
    }
   ],
   "source": [
    "second"
   ]
  },
  {
   "cell_type": "code",
   "execution_count": 22,
   "id": "23f9fdac",
   "metadata": {},
   "outputs": [
    {
     "data": {
      "text/plain": [
       "array([[-1.13584815,  1.56986624],\n",
       "       [ 0.53505945,  0.95173418],\n",
       "       [ 0.19469929, -1.46722984]])"
      ]
     },
     "execution_count": 22,
     "metadata": {},
     "output_type": "execute_result"
    }
   ],
   "source": [
    "third"
   ]
  },
  {
   "cell_type": "markdown",
   "id": "72b2d3e2",
   "metadata": {},
   "source": [
    "## 5. Repeating Elements: tile and repeat"
   ]
  },
  {
   "cell_type": "markdown",
   "id": "70a6446f",
   "metadata": {},
   "source": [
    "### 5.1 repeat()\n",
    "* repeat(n) replicates each item in the array n times"
   ]
  },
  {
   "cell_type": "code",
   "execution_count": 23,
   "id": "93dee3d8",
   "metadata": {},
   "outputs": [
    {
     "data": {
      "text/plain": [
       "array([0, 1, 2])"
      ]
     },
     "execution_count": 23,
     "metadata": {},
     "output_type": "execute_result"
    }
   ],
   "source": [
    "array = np.arange(3)\n",
    "array"
   ]
  },
  {
   "cell_type": "code",
   "execution_count": 24,
   "id": "ccfa5fb9",
   "metadata": {},
   "outputs": [
    {
     "data": {
      "text/plain": [
       "array([0, 0, 0, 1, 1, 1, 2, 2, 2])"
      ]
     },
     "execution_count": 24,
     "metadata": {},
     "output_type": "execute_result"
    }
   ],
   "source": [
    "array.repeat(3)"
   ]
  },
  {
   "cell_type": "code",
   "execution_count": 25,
   "id": "f4748673",
   "metadata": {},
   "outputs": [
    {
     "data": {
      "text/plain": [
       "array([0, 1, 1, 2, 2, 2])"
      ]
     },
     "execution_count": 25,
     "metadata": {},
     "output_type": "execute_result"
    }
   ],
   "source": [
    "#each item's repeatition depends on by the integer value in the input list\n",
    "array.repeat([1, 2, 3])"
   ]
  },
  {
   "cell_type": "code",
   "execution_count": 26,
   "id": "2e1e9b05",
   "metadata": {},
   "outputs": [
    {
     "data": {
      "text/plain": [
       "array([[-0.3121583 , -0.82675972],\n",
       "       [-0.3121583 , -0.82675972],\n",
       "       [ 0.27720673,  1.96136396],\n",
       "       [ 0.27720673,  1.96136396]])"
      ]
     },
     "execution_count": 26,
     "metadata": {},
     "output_type": "execute_result"
    }
   ],
   "source": [
    "array = np.random.randn(2, 2)\n",
    "array.repeat(2, axis=0)"
   ]
  },
  {
   "cell_type": "code",
   "execution_count": 27,
   "id": "8c341cb2",
   "metadata": {},
   "outputs": [
    {
     "data": {
      "text/plain": [
       "array([[-0.3121583 , -0.82675972],\n",
       "       [ 0.27720673,  1.96136396],\n",
       "       [ 0.27720673,  1.96136396]])"
      ]
     },
     "execution_count": 27,
     "metadata": {},
     "output_type": "execute_result"
    }
   ],
   "source": [
    "array.repeat([1, 2], axis=0)"
   ]
  },
  {
   "cell_type": "markdown",
   "id": "424f2d3b",
   "metadata": {},
   "source": [
    "### 5.2 tile()\n",
    "* stacking the entire copy of an array"
   ]
  },
  {
   "cell_type": "code",
   "execution_count": 28,
   "id": "f1186335",
   "metadata": {},
   "outputs": [
    {
     "data": {
      "text/plain": [
       "array([[-0.3121583 , -0.82675972],\n",
       "       [ 0.27720673,  1.96136396]])"
      ]
     },
     "execution_count": 28,
     "metadata": {},
     "output_type": "execute_result"
    }
   ],
   "source": [
    "array"
   ]
  },
  {
   "cell_type": "code",
   "execution_count": 29,
   "id": "22650369",
   "metadata": {},
   "outputs": [
    {
     "data": {
      "text/plain": [
       "array([[-0.3121583 , -0.82675972, -0.3121583 , -0.82675972, -0.3121583 ,\n",
       "        -0.82675972],\n",
       "       [ 0.27720673,  1.96136396,  0.27720673,  1.96136396,  0.27720673,\n",
       "         1.96136396]])"
      ]
     },
     "execution_count": 29,
     "metadata": {},
     "output_type": "execute_result"
    }
   ],
   "source": [
    "# 3 is the number of copies\n",
    "np.tile(array, 3)"
   ]
  },
  {
   "cell_type": "code",
   "execution_count": 30,
   "id": "934fdb02",
   "metadata": {},
   "outputs": [
    {
     "data": {
      "text/plain": [
       "array([[-0.3121583 , -0.82675972, -0.3121583 , -0.82675972],\n",
       "       [ 0.27720673,  1.96136396,  0.27720673,  1.96136396],\n",
       "       [-0.3121583 , -0.82675972, -0.3121583 , -0.82675972],\n",
       "       [ 0.27720673,  1.96136396,  0.27720673,  1.96136396]])"
      ]
     },
     "execution_count": 30,
     "metadata": {},
     "output_type": "execute_result"
    }
   ],
   "source": [
    "#creates an array of 2x2 from array variable\n",
    "np.tile(array, (2, 2))"
   ]
  },
  {
   "cell_type": "markdown",
   "id": "618a4519",
   "metadata": {},
   "source": [
    "## 6. Fancy Indexing Equivalents: take and put"
   ]
  },
  {
   "cell_type": "code",
   "execution_count": 31,
   "id": "2702bdfd",
   "metadata": {},
   "outputs": [
    {
     "data": {
      "text/plain": [
       "array([700, 100, 200, 600])"
      ]
     },
     "execution_count": 31,
     "metadata": {},
     "output_type": "execute_result"
    }
   ],
   "source": [
    "array = np.arange(10) * 100\n",
    "indexes = [7, 1, 2, 6]\n",
    "array[indexes]"
   ]
  },
  {
   "cell_type": "markdown",
   "id": "ffbfc7f2",
   "metadata": {},
   "source": [
    "### 6.1 take() \n",
    "* An alternative approach"
   ]
  },
  {
   "cell_type": "code",
   "execution_count": 32,
   "id": "ddd0fa6f",
   "metadata": {},
   "outputs": [
    {
     "data": {
      "text/plain": [
       "array([700, 100, 200, 600])"
      ]
     },
     "execution_count": 32,
     "metadata": {},
     "output_type": "execute_result"
    }
   ],
   "source": [
    "array.take(indexes)"
   ]
  },
  {
   "cell_type": "markdown",
   "id": "102ba2f9",
   "metadata": {},
   "source": [
    "### 6.2 put()\n",
    "* put() inserts desired values to indexed items"
   ]
  },
  {
   "cell_type": "code",
   "execution_count": 33,
   "id": "9420ad77",
   "metadata": {},
   "outputs": [],
   "source": [
    "array.put(indexes, 50)"
   ]
  },
  {
   "cell_type": "code",
   "execution_count": 34,
   "id": "80fc3ab9",
   "metadata": {},
   "outputs": [
    {
     "data": {
      "text/plain": [
       "array([  0,  50,  50, 300, 400, 500,  50,  50, 800, 900])"
      ]
     },
     "execution_count": 34,
     "metadata": {},
     "output_type": "execute_result"
    }
   ],
   "source": [
    "array"
   ]
  }
 ],
 "metadata": {
  "kernelspec": {
   "display_name": "Python 3",
   "language": "python",
   "name": "python3"
  },
  "language_info": {
   "codemirror_mode": {
    "name": "ipython",
    "version": 3
   },
   "file_extension": ".py",
   "mimetype": "text/x-python",
   "name": "python",
   "nbconvert_exporter": "python",
   "pygments_lexer": "ipython3",
   "version": "3.8.8"
  }
 },
 "nbformat": 4,
 "nbformat_minor": 5
}
