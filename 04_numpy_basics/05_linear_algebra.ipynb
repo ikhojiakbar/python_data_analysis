{
 "cells": [
  {
   "cell_type": "markdown",
   "id": "696a17fb",
   "metadata": {},
   "source": [
    "# Linear Algebra"
   ]
  },
  {
   "cell_type": "markdown",
   "id": "b9ba0089",
   "metadata": {},
   "source": [
    "* `np.linalg` has all the capabilities to perform high-level linear algebra for machine learning and data science"
   ]
  },
  {
   "cell_type": "code",
   "execution_count": 1,
   "id": "445c8a21",
   "metadata": {},
   "outputs": [],
   "source": [
    "import numpy as np"
   ]
  },
  {
   "cell_type": "code",
   "execution_count": 2,
   "id": "e083a168",
   "metadata": {},
   "outputs": [],
   "source": [
    "x = np.array([[1, 2, 3], [4, 5, 6]])\n",
    "y = np.array([[6, 23], [-1, 7], [8, 9]])"
   ]
  },
  {
   "cell_type": "code",
   "execution_count": 3,
   "id": "3353e278",
   "metadata": {},
   "outputs": [
    {
     "data": {
      "text/plain": [
       "array([[1, 2, 3],\n",
       "       [4, 5, 6]])"
      ]
     },
     "execution_count": 3,
     "metadata": {},
     "output_type": "execute_result"
    }
   ],
   "source": [
    "x"
   ]
  },
  {
   "cell_type": "code",
   "execution_count": 4,
   "id": "d0dc6165",
   "metadata": {},
   "outputs": [
    {
     "data": {
      "text/plain": [
       "array([[ 6, 23],\n",
       "       [-1,  7],\n",
       "       [ 8,  9]])"
      ]
     },
     "execution_count": 4,
     "metadata": {},
     "output_type": "execute_result"
    }
   ],
   "source": [
    "y"
   ]
  },
  {
   "cell_type": "code",
   "execution_count": 5,
   "id": "0a83fcae",
   "metadata": {},
   "outputs": [
    {
     "data": {
      "text/plain": [
       "array([[ 28,  64],\n",
       "       [ 67, 181]])"
      ]
     },
     "execution_count": 5,
     "metadata": {},
     "output_type": "execute_result"
    }
   ],
   "source": [
    "np.dot(x, y)"
   ]
  },
  {
   "cell_type": "code",
   "execution_count": 6,
   "id": "f413c966",
   "metadata": {},
   "outputs": [
    {
     "data": {
      "text/plain": [
       "array([ 6., 15.])"
      ]
     },
     "execution_count": 6,
     "metadata": {},
     "output_type": "execute_result"
    }
   ],
   "source": [
    "np.dot(x, np.ones(3))"
   ]
  },
  {
   "cell_type": "code",
   "execution_count": 7,
   "id": "ae2bef8a",
   "metadata": {},
   "outputs": [
    {
     "data": {
      "text/plain": [
       "array([ 6., 15.])"
      ]
     },
     "execution_count": 7,
     "metadata": {},
     "output_type": "execute_result"
    }
   ],
   "source": [
    "x @ np.ones(3)"
   ]
  },
  {
   "cell_type": "code",
   "execution_count": 8,
   "id": "3af8e7eb",
   "metadata": {},
   "outputs": [],
   "source": [
    "from numpy.linalg import inv, qr"
   ]
  },
  {
   "cell_type": "code",
   "execution_count": 9,
   "id": "55947bb3",
   "metadata": {},
   "outputs": [],
   "source": [
    "X = np.random.randn(5, 5)\n",
    "mat_mul = np.dot(X.T, X)"
   ]
  },
  {
   "cell_type": "code",
   "execution_count": 10,
   "id": "e85722c3",
   "metadata": {},
   "outputs": [
    {
     "data": {
      "text/plain": [
       "array([[   64.51341088,   -81.78744168,  -374.11127243,    82.33368682,\n",
       "          389.45242974],\n",
       "       [  -81.78744168,   104.69346105,   475.36836326,  -104.57372776,\n",
       "         -495.90591613],\n",
       "       [ -374.11127243,   475.36836326,  2176.08103523,  -479.12347576,\n",
       "        -2264.56821147],\n",
       "       [   82.33368682,  -104.57372776,  -479.12347576,   105.59331499,\n",
       "          498.49507338],\n",
       "       [  389.45242974,  -495.90591613, -2264.56821147,   498.49507338,\n",
       "         2358.54215903]])"
      ]
     },
     "execution_count": 10,
     "metadata": {},
     "output_type": "execute_result"
    }
   ],
   "source": [
    "inv(mat_mul)"
   ]
  },
  {
   "cell_type": "code",
   "execution_count": 11,
   "id": "ca729848",
   "metadata": {},
   "outputs": [
    {
     "data": {
      "text/plain": [
       "array([[ 1.00000000e+00, -4.14285402e-14, -2.23787195e-13,\n",
       "        -3.97032909e-14, -7.87976429e-14],\n",
       "       [ 1.24514506e-13,  1.00000000e+00, -1.04397256e-12,\n",
       "         2.15456134e-13,  3.16033974e-12],\n",
       "       [-2.21373632e-14,  1.41065525e-13,  1.00000000e+00,\n",
       "         4.43896170e-14,  2.79959386e-12],\n",
       "       [ 7.80730309e-14, -4.41732390e-15, -1.09673137e-12,\n",
       "         1.00000000e+00,  2.82525645e-13],\n",
       "       [ 2.07623665e-13, -1.05314973e-13,  4.12713864e-13,\n",
       "         5.18239191e-13,  1.00000000e+00]])"
      ]
     },
     "execution_count": 11,
     "metadata": {},
     "output_type": "execute_result"
    }
   ],
   "source": [
    "np.dot(mat_mul, inv(mat_mul))"
   ]
  }
 ],
 "metadata": {
  "kernelspec": {
   "display_name": "Python 3",
   "language": "python",
   "name": "python3"
  },
  "language_info": {
   "codemirror_mode": {
    "name": "ipython",
    "version": 3
   },
   "file_extension": ".py",
   "mimetype": "text/x-python",
   "name": "python",
   "nbconvert_exporter": "python",
   "pygments_lexer": "ipython3",
   "version": "3.8.8"
  }
 },
 "nbformat": 4,
 "nbformat_minor": 5
}
