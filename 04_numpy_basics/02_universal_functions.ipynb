{
 "cells": [
  {
   "cell_type": "markdown",
   "id": "fa0f6385",
   "metadata": {},
   "source": [
    "# Universal Functions: Fast Element-Wise Array Functions"
   ]
  },
  {
   "cell_type": "markdown",
   "id": "b6d80fe8",
   "metadata": {},
   "source": [
    "## 1. Unary functions\n",
    "* ops inside an array"
   ]
  },
  {
   "cell_type": "code",
   "execution_count": 1,
   "id": "d48bbdd8",
   "metadata": {},
   "outputs": [],
   "source": [
    "import numpy as np"
   ]
  },
  {
   "cell_type": "code",
   "execution_count": 2,
   "id": "0c574e7d",
   "metadata": {},
   "outputs": [
    {
     "data": {
      "text/plain": [
       "array([0, 1, 2, 3, 4, 5, 6, 7, 8, 9])"
      ]
     },
     "execution_count": 2,
     "metadata": {},
     "output_type": "execute_result"
    }
   ],
   "source": [
    "array = np.arange(10)\n",
    "array"
   ]
  },
  {
   "cell_type": "code",
   "execution_count": 3,
   "id": "d3ec7e04",
   "metadata": {},
   "outputs": [
    {
     "data": {
      "text/plain": [
       "array([0.        , 1.        , 1.41421356, 1.73205081, 2.        ,\n",
       "       2.23606798, 2.44948974, 2.64575131, 2.82842712, 3.        ])"
      ]
     },
     "execution_count": 3,
     "metadata": {},
     "output_type": "execute_result"
    }
   ],
   "source": [
    "np.sqrt(array)"
   ]
  },
  {
   "cell_type": "code",
   "execution_count": 4,
   "id": "7ff696b1",
   "metadata": {},
   "outputs": [
    {
     "data": {
      "text/plain": [
       "array([1.00000000e+00, 2.71828183e+00, 7.38905610e+00, 2.00855369e+01,\n",
       "       5.45981500e+01, 1.48413159e+02, 4.03428793e+02, 1.09663316e+03,\n",
       "       2.98095799e+03, 8.10308393e+03])"
      ]
     },
     "execution_count": 4,
     "metadata": {},
     "output_type": "execute_result"
    }
   ],
   "source": [
    "np.exp(array)"
   ]
  },
  {
   "cell_type": "markdown",
   "id": "14e81d40",
   "metadata": {},
   "source": [
    "### modf()\n",
    "* vectorized implementation of Python's built in divmod()"
   ]
  },
  {
   "cell_type": "code",
   "execution_count": 5,
   "id": "fe25d325",
   "metadata": {},
   "outputs": [
    {
     "data": {
      "text/plain": [
       "array([-1.77479337,  1.5646932 ,  6.34259767,  4.32396552, -1.34567453,\n",
       "        2.19046118, -2.02998129])"
      ]
     },
     "execution_count": 5,
     "metadata": {},
     "output_type": "execute_result"
    }
   ],
   "source": [
    "array = np.random.randn(7) * 5\n",
    "array"
   ]
  },
  {
   "cell_type": "code",
   "execution_count": 6,
   "id": "3f944167",
   "metadata": {},
   "outputs": [],
   "source": [
    "remainder, whole = np.modf(array)"
   ]
  },
  {
   "cell_type": "code",
   "execution_count": 7,
   "id": "a9f5cacf",
   "metadata": {},
   "outputs": [
    {
     "data": {
      "text/plain": [
       "array([-0.77479337,  0.5646932 ,  0.34259767,  0.32396552, -0.34567453,\n",
       "        0.19046118, -0.02998129])"
      ]
     },
     "execution_count": 7,
     "metadata": {},
     "output_type": "execute_result"
    }
   ],
   "source": [
    "remainder"
   ]
  },
  {
   "cell_type": "code",
   "execution_count": 8,
   "id": "8f22a931",
   "metadata": {},
   "outputs": [
    {
     "data": {
      "text/plain": [
       "array([-1.,  1.,  6.,  4., -1.,  2., -2.])"
      ]
     },
     "execution_count": 8,
     "metadata": {},
     "output_type": "execute_result"
    }
   ],
   "source": [
    "whole"
   ]
  },
  {
   "cell_type": "code",
   "execution_count": 9,
   "id": "292b9ab4",
   "metadata": {},
   "outputs": [
    {
     "data": {
      "text/plain": [
       "array([-1.77479337,  1.5646932 ,  6.34259767,  4.32396552, -1.34567453,\n",
       "        2.19046118, -2.02998129])"
      ]
     },
     "execution_count": 9,
     "metadata": {},
     "output_type": "execute_result"
    }
   ],
   "source": [
    "array"
   ]
  },
  {
   "cell_type": "code",
   "execution_count": 10,
   "id": "19a7965e",
   "metadata": {},
   "outputs": [
    {
     "name": "stderr",
     "output_type": "stream",
     "text": [
      "<ipython-input-10-d8fa42088d52>:2: RuntimeWarning: invalid value encountered in sqrt\n",
      "  np.sqrt(array)\n"
     ]
    },
    {
     "data": {
      "text/plain": [
       "array([       nan, 1.25087697, 2.51845144, 2.07941471,        nan,\n",
       "       1.48002067,        nan])"
      ]
     },
     "execution_count": 10,
     "metadata": {},
     "output_type": "execute_result"
    }
   ],
   "source": [
    "#accept an optional out argument for negative values\n",
    "np.sqrt(array)"
   ]
  },
  {
   "cell_type": "markdown",
   "id": "880e2bbf",
   "metadata": {},
   "source": [
    "## 2. Binary functions\n",
    "* ops between 2 or more arrays"
   ]
  },
  {
   "cell_type": "code",
   "execution_count": 11,
   "id": "4eb26afb",
   "metadata": {},
   "outputs": [],
   "source": [
    "x = np.random.randn(8)\n",
    "y = np.random.randn(8)"
   ]
  },
  {
   "cell_type": "code",
   "execution_count": 12,
   "id": "547bae0c",
   "metadata": {},
   "outputs": [
    {
     "data": {
      "text/plain": [
       "array([-0.96907103, -2.20118094, -0.38837153,  0.03428807,  0.66794632,\n",
       "        0.0305573 ,  0.46753436,  0.41759814])"
      ]
     },
     "execution_count": 12,
     "metadata": {},
     "output_type": "execute_result"
    }
   ],
   "source": [
    "x"
   ]
  },
  {
   "cell_type": "code",
   "execution_count": 13,
   "id": "afa15c97",
   "metadata": {},
   "outputs": [
    {
     "data": {
      "text/plain": [
       "array([ 2.45751036,  0.4386242 , -0.51705247, -1.56631352, -0.08315758,\n",
       "       -0.67299747,  0.82007687,  0.84830695])"
      ]
     },
     "execution_count": 13,
     "metadata": {},
     "output_type": "execute_result"
    }
   ],
   "source": [
    "y"
   ]
  },
  {
   "cell_type": "code",
   "execution_count": 14,
   "id": "35f9a9bd",
   "metadata": {},
   "outputs": [
    {
     "data": {
      "text/plain": [
       "array([ 2.45751036,  0.4386242 , -0.38837153,  0.03428807,  0.66794632,\n",
       "        0.0305573 ,  0.82007687,  0.84830695])"
      ]
     },
     "execution_count": 14,
     "metadata": {},
     "output_type": "execute_result"
    }
   ],
   "source": [
    "#estestvennit otbor from 2 array items\n",
    "np.maximum(x, y)"
   ]
  }
 ],
 "metadata": {
  "kernelspec": {
   "display_name": "Python 3",
   "language": "python",
   "name": "python3"
  },
  "language_info": {
   "codemirror_mode": {
    "name": "ipython",
    "version": 3
   },
   "file_extension": ".py",
   "mimetype": "text/x-python",
   "name": "python",
   "nbconvert_exporter": "python",
   "pygments_lexer": "ipython3",
   "version": "3.8.8"
  }
 },
 "nbformat": 4,
 "nbformat_minor": 5
}
