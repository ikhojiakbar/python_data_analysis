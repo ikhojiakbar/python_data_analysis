{
 "cells": [
  {
   "cell_type": "markdown",
   "id": "8d89f99e",
   "metadata": {},
   "source": [
    "# Pseudorandom Number Generation"
   ]
  },
  {
   "cell_type": "markdown",
   "id": "610e74ce",
   "metadata": {},
   "source": [
    "* `numpy.random` module is much better than the standard built-in random one => Time and Space efficiency"
   ]
  },
  {
   "cell_type": "code",
   "execution_count": 1,
   "id": "d1398d2c",
   "metadata": {},
   "outputs": [],
   "source": [
    "import numpy as np"
   ]
  },
  {
   "cell_type": "code",
   "execution_count": 2,
   "id": "6e5088bf",
   "metadata": {},
   "outputs": [
    {
     "data": {
      "text/plain": [
       "array([[-0.92108578,  0.60332799, -1.30103686, -0.23777891],\n",
       "       [-0.22895691, -1.17096396,  0.73590625,  0.39379181],\n",
       "       [ 0.49570591, -0.08121142, -1.40746262, -1.63846754],\n",
       "       [ 2.36907423,  0.23349021,  1.67081684,  0.31609449]])"
      ]
     },
     "execution_count": 2,
     "metadata": {},
     "output_type": "execute_result"
    }
   ],
   "source": [
    "samples = np.random.normal(size=(4, 4))\n",
    "samples"
   ]
  },
  {
   "cell_type": "code",
   "execution_count": 3,
   "id": "c92135df",
   "metadata": {},
   "outputs": [
    {
     "data": {
      "text/plain": [
       "-0.16875626662166976"
      ]
     },
     "execution_count": 3,
     "metadata": {},
     "output_type": "execute_result"
    }
   ],
   "source": [
    "np.sum(samples)"
   ]
  },
  {
   "cell_type": "code",
   "execution_count": 4,
   "id": "0cc6e8f5",
   "metadata": {},
   "outputs": [
    {
     "data": {
      "text/plain": [
       "-0.01054726666385436"
      ]
     },
     "execution_count": 4,
     "metadata": {},
     "output_type": "execute_result"
    }
   ],
   "source": [
    "np.mean(samples)"
   ]
  }
 ],
 "metadata": {
  "kernelspec": {
   "display_name": "Python 3",
   "language": "python",
   "name": "python3"
  },
  "language_info": {
   "codemirror_mode": {
    "name": "ipython",
    "version": 3
   },
   "file_extension": ".py",
   "mimetype": "text/x-python",
   "name": "python",
   "nbconvert_exporter": "python",
   "pygments_lexer": "ipython3",
   "version": "3.8.8"
  }
 },
 "nbformat": 4,
 "nbformat_minor": 5
}
