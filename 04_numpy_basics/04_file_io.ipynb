{
 "cells": [
  {
   "cell_type": "markdown",
   "id": "449f819a",
   "metadata": {},
   "source": [
    "# File I/O with Arrays"
   ]
  },
  {
   "cell_type": "markdown",
   "id": "b2dd25cb",
   "metadata": {},
   "source": [
    "## 1. Saving"
   ]
  },
  {
   "cell_type": "code",
   "execution_count": 1,
   "id": "9d88f9b8",
   "metadata": {},
   "outputs": [],
   "source": [
    "import numpy as np"
   ]
  },
  {
   "cell_type": "code",
   "execution_count": 2,
   "id": "d13ea359",
   "metadata": {},
   "outputs": [],
   "source": [
    "#by default NumPy saves files in binary uncompressed fromat\n",
    "#the format is '.npy' extension\n",
    "\n",
    "array = np.arange(10)\n",
    "np.save('04_array.npy', array)"
   ]
  },
  {
   "cell_type": "markdown",
   "id": "837323b2",
   "metadata": {},
   "source": [
    "## 2. Load"
   ]
  },
  {
   "cell_type": "code",
   "execution_count": 3,
   "id": "b4e08688",
   "metadata": {},
   "outputs": [
    {
     "data": {
      "text/plain": [
       "array([0, 1, 2, 3, 4, 5, 6, 7, 8, 9])"
      ]
     },
     "execution_count": 3,
     "metadata": {},
     "output_type": "execute_result"
    }
   ],
   "source": [
    "np.load('04_array.npy')"
   ]
  },
  {
   "cell_type": "markdown",
   "id": "54189500",
   "metadata": {},
   "source": [
    "## 3. `Multiple` arrays saving and loading"
   ]
  },
  {
   "cell_type": "markdown",
   "id": "1f0e3376",
   "metadata": {},
   "source": [
    "### 3.1 Saving"
   ]
  },
  {
   "cell_type": "code",
   "execution_count": 4,
   "id": "ce58352e",
   "metadata": {},
   "outputs": [],
   "source": [
    "array_1 = np.random.randn(100)\n",
    "array_2 = np.arange(100)\n",
    "\n",
    "np.savez('04_multiple_arrays.npz', a=array_1, b=array_2)"
   ]
  },
  {
   "cell_type": "markdown",
   "id": "103a5a4a",
   "metadata": {},
   "source": [
    "### 3.2 Loading"
   ]
  },
  {
   "cell_type": "code",
   "execution_count": 5,
   "id": "50d0d0be",
   "metadata": {},
   "outputs": [],
   "source": [
    "arrays = np.load('04_multiple_arrays.npz')"
   ]
  },
  {
   "cell_type": "code",
   "execution_count": 6,
   "id": "ae6fb672",
   "metadata": {},
   "outputs": [
    {
     "data": {
      "text/plain": [
       "array([ 0.63973196,  0.99991504,  0.20150125,  0.4013971 , -0.57703994,\n",
       "       -0.1903569 ,  0.26538219, -0.91654363, -0.3272505 ,  0.46038558,\n",
       "        1.08877407, -0.60525173, -0.33058559,  0.23207798,  0.64387547,\n",
       "        1.01741683,  0.58776147,  1.77268267,  0.31632579, -0.35686119,\n",
       "        2.03269925, -0.28565389, -1.02458245,  0.06632384, -0.84600973,\n",
       "       -1.22780738,  0.00767479,  0.82083658,  0.0417149 , -0.01178464,\n",
       "       -0.26380038, -0.96697244, -1.37557724,  0.22878087,  0.67243436,\n",
       "       -0.20174878, -1.49663269, -0.07481624,  1.60355797, -0.24729198,\n",
       "        0.40634   , -0.22050064, -0.00949206, -0.79075056, -0.46162017,\n",
       "        0.44581854,  0.6850259 , -0.02087479, -0.75859594, -0.09767227,\n",
       "        0.85779101, -0.43030619,  1.30142082,  0.51931701, -0.40808941,\n",
       "       -2.23431604, -1.09391177,  1.28903282, -1.80763939,  1.65987728,\n",
       "        1.10626725,  0.56285491,  0.65855813, -0.96870493, -1.31038241,\n",
       "       -0.64308622, -0.0850197 ,  0.77186227, -0.10708596, -0.84791967,\n",
       "        1.2813837 ,  0.28803929,  0.83920122,  1.38129206, -1.19921679,\n",
       "       -1.7585577 ,  1.85979409, -1.36158929,  0.77270855, -1.14199777,\n",
       "        1.71903897, -1.07510838, -1.20010082, -1.16051978, -0.59642583,\n",
       "       -0.38002003,  0.42593699, -0.93001672, -0.17766606, -0.54570946,\n",
       "        0.57100167,  0.14523858,  1.71274112,  0.02502999,  0.38249829,\n",
       "        0.13846923,  0.83266604,  0.56807401,  0.95894503, -0.58145307])"
      ]
     },
     "execution_count": 6,
     "metadata": {},
     "output_type": "execute_result"
    }
   ],
   "source": [
    "arrays['a']"
   ]
  },
  {
   "cell_type": "markdown",
   "id": "46952230",
   "metadata": {},
   "source": [
    "## 4. Compressing the data"
   ]
  },
  {
   "cell_type": "code",
   "execution_count": 7,
   "id": "4ac0389b",
   "metadata": {},
   "outputs": [],
   "source": [
    "array = np.arange(1000)\n",
    "np.savez_compressed('04_compressed_array.npz', a=array)"
   ]
  }
 ],
 "metadata": {
  "kernelspec": {
   "display_name": "Python 3",
   "language": "python",
   "name": "python3"
  },
  "language_info": {
   "codemirror_mode": {
    "name": "ipython",
    "version": 3
   },
   "file_extension": ".py",
   "mimetype": "text/x-python",
   "name": "python",
   "nbconvert_exporter": "python",
   "pygments_lexer": "ipython3",
   "version": "3.8.8"
  }
 },
 "nbformat": 4,
 "nbformat_minor": 5
}
