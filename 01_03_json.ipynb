{
 "cells": [
  {
   "cell_type": "markdown",
   "id": "5c115d13",
   "metadata": {},
   "source": [
    "# JSON Data"
   ]
  },
  {
   "cell_type": "markdown",
   "id": "f33b0633",
   "metadata": {},
   "source": [
    "* JSON is the standart format for sending data by HTTP request between web browsers and other applications"
   ]
  },
  {
   "cell_type": "code",
   "execution_count": 1,
   "id": "c88e48a9",
   "metadata": {},
   "outputs": [],
   "source": [
    "user = \"\"\"\n",
    "{\"name\": \"Khojiakbar\",\n",
    " \"places_lived\": [\"Uzbekistan\", \"Korea\"],\n",
    " \"pets\": null,\n",
    " \"siblings\": [{\"name\": \"Scott\", \"age\": 30, \"pets\": [\"Zeus\", \"Zuko\"]},\n",
    "              {\"name\": \"Katie\", \"age\": 38, \"pets\": \"Cisco\"]}\n",
    "}\n",
    "\"\"\""
   ]
  },
  {
   "cell_type": "code",
   "execution_count": 2,
   "id": "b52e49b3",
   "metadata": {},
   "outputs": [],
   "source": [
    "import numpy as np\n",
    "import pandas as pd"
   ]
  },
  {
   "cell_type": "markdown",
   "id": "f8898850",
   "metadata": {},
   "source": [
    "## 1. Built-in JSON module"
   ]
  },
  {
   "cell_type": "markdown",
   "id": "d1668a60",
   "metadata": {},
   "source": [
    "### 1.1 Reading"
   ]
  },
  {
   "cell_type": "code",
   "execution_count": null,
   "id": "d00a4acc",
   "metadata": {
    "scrolled": true
   },
   "outputs": [],
   "source": [
    "import json\n",
    "\n",
    "result = json.loads(user)\n",
    "result"
   ]
  },
  {
   "cell_type": "markdown",
   "id": "87e9a455",
   "metadata": {},
   "source": [
    "### 1.2 Writing"
   ]
  },
  {
   "cell_type": "code",
   "execution_count": null,
   "id": "d6a24d42",
   "metadata": {},
   "outputs": [],
   "source": [
    "asjson = json.dumps(result)"
   ]
  },
  {
   "cell_type": "markdown",
   "id": "a1162965",
   "metadata": {},
   "source": [
    "## 2. Parsed JSON to DataFrame"
   ]
  },
  {
   "cell_type": "code",
   "execution_count": null,
   "id": "23ec925a",
   "metadata": {},
   "outputs": [],
   "source": [
    "siblings = pd.DataFrame(results['siblings'], columns=['name', 'age'])"
   ]
  },
  {
   "cell_type": "markdown",
   "id": "e7e33ae1",
   "metadata": {},
   "source": [
    "## 3. JSON to S/DF\n",
    "* Always go with this framework"
   ]
  },
  {
   "cell_type": "code",
   "execution_count": null,
   "id": "6d4c5600",
   "metadata": {},
   "outputs": [],
   "source": [
    "pd.read_json('03_examples.json')"
   ]
  },
  {
   "cell_type": "markdown",
   "id": "7ac65f8e",
   "metadata": {},
   "source": [
    "## 4. to_json()"
   ]
  },
  {
   "cell_type": "code",
   "execution_count": null,
   "id": "81925f07",
   "metadata": {},
   "outputs": [],
   "source": [
    "pd.to_json(dataframe, '03_examples.json')"
   ]
  }
 ],
 "metadata": {
  "kernelspec": {
   "display_name": "Python 3",
   "language": "python",
   "name": "python3"
  },
  "language_info": {
   "codemirror_mode": {
    "name": "ipython",
    "version": 3
   },
   "file_extension": ".py",
   "mimetype": "text/x-python",
   "name": "python",
   "nbconvert_exporter": "python",
   "pygments_lexer": "ipython3",
   "version": "3.8.8"
  }
 },
 "nbformat": 4,
 "nbformat_minor": 5
}
