{
 "cells": [
  {
   "cell_type": "markdown",
   "id": "67b6fdff",
   "metadata": {},
   "source": [
    "# Introduction to pandas Data Structures"
   ]
  },
  {
   "cell_type": "markdown",
   "id": "ee362edb",
   "metadata": {},
   "source": [
    "## 1. Series"
   ]
  },
  {
   "cell_type": "code",
   "execution_count": 1,
   "id": "f5e4ee72",
   "metadata": {},
   "outputs": [],
   "source": [
    "import numpy as np\n",
    "import pandas as pd"
   ]
  },
  {
   "cell_type": "code",
   "execution_count": 2,
   "id": "e37253b7",
   "metadata": {},
   "outputs": [
    {
     "data": {
      "text/plain": [
       "0    4\n",
       "1    7\n",
       "2   -5\n",
       "3    3\n",
       "dtype: int64"
      ]
     },
     "execution_count": 2,
     "metadata": {},
     "output_type": "execute_result"
    }
   ],
   "source": [
    "series = pd.Series([4, 7, -5, 3])\n",
    "#string repr of Series\n",
    "series"
   ]
  },
  {
   "cell_type": "code",
   "execution_count": 3,
   "id": "9f63c4b4",
   "metadata": {},
   "outputs": [
    {
     "data": {
      "text/plain": [
       "array([ 4,  7, -5,  3], dtype=int64)"
      ]
     },
     "execution_count": 3,
     "metadata": {},
     "output_type": "execute_result"
    }
   ],
   "source": [
    "#array reper str=>numeric\n",
    "series.values"
   ]
  },
  {
   "cell_type": "code",
   "execution_count": 4,
   "id": "4d66403b",
   "metadata": {},
   "outputs": [
    {
     "data": {
      "text/plain": [
       "RangeIndex(start=0, stop=4, step=1)"
      ]
     },
     "execution_count": 4,
     "metadata": {},
     "output_type": "execute_result"
    }
   ],
   "source": [
    "#index repr\n",
    "series.index"
   ]
  },
  {
   "cell_type": "markdown",
   "id": "67351e19",
   "metadata": {},
   "source": [
    "### 1.1 Custom indexing"
   ]
  },
  {
   "cell_type": "code",
   "execution_count": 5,
   "id": "a15fe8d0",
   "metadata": {},
   "outputs": [
    {
     "data": {
      "text/plain": [
       "d    4\n",
       "b    7\n",
       "a   -5\n",
       "c    3\n",
       "dtype: int64"
      ]
     },
     "execution_count": 5,
     "metadata": {},
     "output_type": "execute_result"
    }
   ],
   "source": [
    "series_2 = pd.Series([4, 7, -5, 3], index=['d', 'b', 'a', 'c'])\n",
    "series_2"
   ]
  },
  {
   "cell_type": "code",
   "execution_count": 6,
   "id": "257bee39",
   "metadata": {},
   "outputs": [
    {
     "data": {
      "text/plain": [
       "Index(['d', 'b', 'a', 'c'], dtype='object')"
      ]
     },
     "execution_count": 6,
     "metadata": {},
     "output_type": "execute_result"
    }
   ],
   "source": [
    "series_2.index"
   ]
  },
  {
   "cell_type": "markdown",
   "id": "26e67222",
   "metadata": {},
   "source": [
    "### 1.2 Selecting values via index"
   ]
  },
  {
   "cell_type": "code",
   "execution_count": 7,
   "id": "28bdd785",
   "metadata": {},
   "outputs": [
    {
     "data": {
      "text/plain": [
       "-5"
      ]
     },
     "execution_count": 7,
     "metadata": {},
     "output_type": "execute_result"
    }
   ],
   "source": [
    "series_2['a']"
   ]
  },
  {
   "cell_type": "code",
   "execution_count": 8,
   "id": "6e21bc79",
   "metadata": {},
   "outputs": [
    {
     "data": {
      "text/plain": [
       "b    7\n",
       "a   -5\n",
       "c    3\n",
       "dtype: int64"
      ]
     },
     "execution_count": 8,
     "metadata": {},
     "output_type": "execute_result"
    }
   ],
   "source": [
    "series_2[['b', 'a', 'c']]"
   ]
  },
  {
   "cell_type": "code",
   "execution_count": 9,
   "id": "83129b80",
   "metadata": {},
   "outputs": [
    {
     "data": {
      "text/plain": [
       "d    4\n",
       "b    7\n",
       "c    3\n",
       "dtype: int64"
      ]
     },
     "execution_count": 9,
     "metadata": {},
     "output_type": "execute_result"
    }
   ],
   "source": [
    "series_2[series_2 > 0]"
   ]
  },
  {
   "cell_type": "code",
   "execution_count": 10,
   "id": "0588dd0e",
   "metadata": {},
   "outputs": [
    {
     "data": {
      "text/plain": [
       "d     8\n",
       "b    14\n",
       "a   -10\n",
       "c     6\n",
       "dtype: int64"
      ]
     },
     "execution_count": 10,
     "metadata": {},
     "output_type": "execute_result"
    }
   ],
   "source": [
    "series_2 * 2"
   ]
  },
  {
   "cell_type": "code",
   "execution_count": 11,
   "id": "230cd631",
   "metadata": {},
   "outputs": [
    {
     "data": {
      "text/plain": [
       "True"
      ]
     },
     "execution_count": 11,
     "metadata": {},
     "output_type": "execute_result"
    }
   ],
   "source": [
    "'c' in series_2"
   ]
  },
  {
   "cell_type": "markdown",
   "id": "9e30596d",
   "metadata": {},
   "source": [
    "### 1.3 Creating Series from Python dict"
   ]
  },
  {
   "cell_type": "code",
   "execution_count": 12,
   "id": "ed3a59b6",
   "metadata": {},
   "outputs": [
    {
     "data": {
      "text/plain": [
       "Ohio      35000\n",
       "Texas     71000\n",
       "Oregon    16000\n",
       "Utah       5000\n",
       "dtype: int64"
      ]
     },
     "execution_count": 12,
     "metadata": {},
     "output_type": "execute_result"
    }
   ],
   "source": [
    "#key=index, value=value\n",
    "states = {'Ohio': 35000, 'Texas': 71000, 'Oregon': 16000, 'Utah': 5000}\n",
    "series_3 = pd.Series(states)\n",
    "series_3"
   ]
  },
  {
   "cell_type": "code",
   "execution_count": 13,
   "id": "1bf27f68",
   "metadata": {},
   "outputs": [
    {
     "data": {
      "text/plain": [
       "California           NaN\n",
       "San Francisco        NaN\n",
       "Washington           NaN\n",
       "Texas            71000.0\n",
       "dtype: float64"
      ]
     },
     "execution_count": 13,
     "metadata": {},
     "output_type": "execute_result"
    }
   ],
   "source": [
    "#overriding indexes\n",
    "indexes = ['California', 'San Francisco', 'Washington', 'Texas']\n",
    "series_4 = pd.Series(states, index=indexes)\n",
    "series_4"
   ]
  },
  {
   "cell_type": "code",
   "execution_count": 14,
   "id": "8beb574e",
   "metadata": {},
   "outputs": [
    {
     "data": {
      "text/plain": [
       "California        True\n",
       "San Francisco     True\n",
       "Washington        True\n",
       "Texas            False\n",
       "dtype: bool"
      ]
     },
     "execution_count": 14,
     "metadata": {},
     "output_type": "execute_result"
    }
   ],
   "source": [
    "#detecting the missing value\n",
    "pd.isnull(series_4)"
   ]
  },
  {
   "cell_type": "code",
   "execution_count": 15,
   "id": "3ca925c7",
   "metadata": {},
   "outputs": [
    {
     "data": {
      "text/plain": [
       "California       False\n",
       "San Francisco    False\n",
       "Washington       False\n",
       "Texas             True\n",
       "dtype: bool"
      ]
     },
     "execution_count": 15,
     "metadata": {},
     "output_type": "execute_result"
    }
   ],
   "source": [
    "#detecting notnull values\n",
    "pd.notnull(series_4)"
   ]
  },
  {
   "cell_type": "code",
   "execution_count": 16,
   "id": "e0782256",
   "metadata": {},
   "outputs": [
    {
     "data": {
      "text/plain": [
       "Ohio      35000\n",
       "Texas     71000\n",
       "Oregon    16000\n",
       "Utah       5000\n",
       "dtype: int64"
      ]
     },
     "execution_count": 16,
     "metadata": {},
     "output_type": "execute_result"
    }
   ],
   "source": [
    "series_3"
   ]
  },
  {
   "cell_type": "code",
   "execution_count": 17,
   "id": "88fd9c2a",
   "metadata": {},
   "outputs": [
    {
     "data": {
      "text/plain": [
       "California           NaN\n",
       "San Francisco        NaN\n",
       "Washington           NaN\n",
       "Texas            71000.0\n",
       "dtype: float64"
      ]
     },
     "execution_count": 17,
     "metadata": {},
     "output_type": "execute_result"
    }
   ],
   "source": [
    "series_4"
   ]
  },
  {
   "cell_type": "code",
   "execution_count": 18,
   "id": "f4dc2df3",
   "metadata": {},
   "outputs": [
    {
     "data": {
      "text/plain": [
       "California            NaN\n",
       "Ohio                  NaN\n",
       "Oregon                NaN\n",
       "San Francisco         NaN\n",
       "Texas            142000.0\n",
       "Utah                  NaN\n",
       "Washington            NaN\n",
       "dtype: float64"
      ]
     },
     "execution_count": 18,
     "metadata": {},
     "output_type": "execute_result"
    }
   ],
   "source": [
    "#operators look for index keys\n",
    "series_3 + series_4"
   ]
  },
  {
   "cell_type": "markdown",
   "id": "e3f1a9ac",
   "metadata": {},
   "source": [
    "### 1.4 Naming Series object and its index itself"
   ]
  },
  {
   "cell_type": "code",
   "execution_count": 19,
   "id": "8508265e",
   "metadata": {},
   "outputs": [
    {
     "data": {
      "text/plain": [
       "states\n",
       "California           NaN\n",
       "San Francisco        NaN\n",
       "Washington           NaN\n",
       "Texas            71000.0\n",
       "Name: population, dtype: float64"
      ]
     },
     "execution_count": 19,
     "metadata": {},
     "output_type": "execute_result"
    }
   ],
   "source": [
    "series_4.name = 'population'\n",
    "series_4.index.name = 'states'\n",
    "series_4"
   ]
  },
  {
   "cell_type": "code",
   "execution_count": 20,
   "id": "98f35ce1",
   "metadata": {},
   "outputs": [
    {
     "data": {
      "text/plain": [
       "Alice       4\n",
       "Bob         7\n",
       "Caroline   -5\n",
       "David       3\n",
       "dtype: int64"
      ]
     },
     "execution_count": 20,
     "metadata": {},
     "output_type": "execute_result"
    }
   ],
   "source": [
    "#index assignment in-place and values are preserved on previous data\n",
    "series.index = ['Alice', 'Bob', 'Caroline', 'David']\n",
    "series"
   ]
  },
  {
   "cell_type": "code",
   "execution_count": 21,
   "id": "589cc140",
   "metadata": {},
   "outputs": [
    {
     "data": {
      "text/plain": [
       "Ali       NaN\n",
       "Baxodir   NaN\n",
       "Sardor    NaN\n",
       "Davron    NaN\n",
       "dtype: float64"
      ]
     },
     "execution_count": 21,
     "metadata": {},
     "output_type": "execute_result"
    }
   ],
   "source": [
    "#alternatively override and lose the vaues of previous series\n",
    "pd.Series(series, index=['Ali', 'Baxodir', 'Sardor', 'Davron'])"
   ]
  }
 ],
 "metadata": {
  "kernelspec": {
   "display_name": "Python 3",
   "language": "python",
   "name": "python3"
  },
  "language_info": {
   "codemirror_mode": {
    "name": "ipython",
    "version": 3
   },
   "file_extension": ".py",
   "mimetype": "text/x-python",
   "name": "python",
   "nbconvert_exporter": "python",
   "pygments_lexer": "ipython3",
   "version": "3.8.8"
  }
 },
 "nbformat": 4,
 "nbformat_minor": 5
}
